{
 "cells": [
  {
   "cell_type": "markdown",
   "metadata": {},
   "source": [
    "Εισάγουμε όλα τα πακέτα που θα χρειαστούμε στην εργασία μας."
   ]
  },
  {
   "cell_type": "code",
   "execution_count": 1,
   "metadata": {
    "_cell_guid": "9261a972-28be-489a-b265-cd61b5820aa4",
    "_execution_state": "idle",
    "_uuid": "2185658d1706a8cefb8145403482401b30185fc4"
   },
   "outputs": [
    {
     "name": "stderr",
     "output_type": "stream",
     "text": [
      "[nltk_data] Downloading package punkt to\n",
      "[nltk_data]     C:\\Users\\Fotis\\AppData\\Roaming\\nltk_data...\n",
      "[nltk_data]   Package punkt is already up-to-date!\n",
      "[nltk_data] Downloading package stopwords to\n",
      "[nltk_data]     C:\\Users\\Fotis\\AppData\\Roaming\\nltk_data...\n",
      "[nltk_data]   Package stopwords is already up-to-date!\n"
     ]
    }
   ],
   "source": [
    "import numpy as np \n",
    "import pandas as pd \n",
    "import seaborn as sns\n",
    "import nltk\n",
    "import matplotlib.pyplot as plt\n",
    "nltk.download('punkt')\n",
    "nltk.download('stopwords')\n",
    "from nltk.tokenize import word_tokenize\n",
    "from nltk.corpus import stopwords\n",
    "from sklearn.model_selection import train_test_split\n",
    "from sklearn.model_selection import learning_curve\n",
    "from sklearn.metrics import confusion_matrix\n",
    "from imblearn.over_sampling import RandomOverSampler\n",
    "ros = RandomOverSampler()\n",
    "from sklearn.ensemble import RandomForestClassifier\n",
    "rfc=RandomForestClassifier()\n",
    "from sklearn.naive_bayes import GaussianNB\n",
    "gnb=GaussianNB()\n",
    "from sklearn.neighbors import KNeighborsClassifier\n",
    "knn=KNeighborsClassifier()\n",
    "from sklearn.metrics import accuracy_score"
   ]
  },
  {
   "cell_type": "markdown",
   "metadata": {},
   "source": [
    "Διαβάζουμε τα δεδομένα μας και κοιτάμε το σχήμα τους."
   ]
  },
  {
   "cell_type": "code",
   "execution_count": 3,
   "metadata": {
    "_cell_guid": "229b2b4c-30a8-4171-ae0e-243705e8016a",
    "_execution_state": "idle",
    "_uuid": "12a49533e5de815bff003a3597f2e3adca5555bc"
   },
   "outputs": [
    {
     "name": "stderr",
     "output_type": "stream",
     "text": [
      "b'Skipping line 1598: expected 15 fields, saw 22\\nSkipping line 25768: expected 15 fields, saw 22\\n'\n"
     ]
    },
    {
     "data": {
      "text/plain": [
       "(85924, 15)"
      ]
     },
     "execution_count": 3,
     "metadata": {},
     "output_type": "execute_result"
    }
   ],
   "source": [
    "url='amazon.tsv'\n",
    "#url='https://s3.amazonaws.com/amazon-reviews-pds/tsv/amazon_reviews_us_Personal_Care_Appliances_v1_00.tsv.gz\n",
    "Data=pd.read_csv(url,sep='\\t',error_bad_lines=False)\n",
    "Data.shape"
   ]
  },
  {
   "cell_type": "markdown",
   "metadata": {},
   "source": [
    "Πετάμε τα NA's. Τελικά ήταν μόνο 5 γραμμές, οπότε δεν υπάρχει πρόβλημα να τα αγνοήσουμε. "
   ]
  },
  {
   "cell_type": "code",
   "execution_count": 4,
   "metadata": {},
   "outputs": [
    {
     "data": {
      "text/plain": [
       "(85919, 15)"
      ]
     },
     "execution_count": 4,
     "metadata": {},
     "output_type": "execute_result"
    }
   ],
   "source": [
    "Data=Data.dropna(axis=0)\n",
    "Data.shape"
   ]
  },
  {
   "cell_type": "markdown",
   "metadata": {},
   "source": [
    "Οι στήλες 'marketplace','review_id' και 'product_category' δεν προσφέρουν κάποια επιπλέον πληροφορία, άρα μπορούν να αφαιρεθούν."
   ]
  },
  {
   "cell_type": "code",
   "execution_count": 4,
   "metadata": {},
   "outputs": [],
   "source": [
    "Data=Data.drop(columns=['marketplace','review_id','product_category'],axis=1)"
   ]
  },
  {
   "cell_type": "markdown",
   "metadata": {},
   "source": [
    "Οι στήλες 'product_parent','product_title' και 'product_id' προσφέρουν την ίδια πληροφορία. Θα κρατήσουμε αυτή με τις λιγότερες μοναδικές εγγραφές, αφού δείχνει καλύτερη κατηγοριοποίηση."
   ]
  },
  {
   "cell_type": "code",
   "execution_count": 5,
   "metadata": {},
   "outputs": [
    {
     "name": "stdout",
     "output_type": "stream",
     "text": [
      "product_parent:  15916 \n",
      "product_title:  16938 \n",
      "product_id:  17559\n"
     ]
    }
   ],
   "source": [
    "print('product_parent: ',len(Data['product_parent'].unique()),\n",
    "      '\\nproduct_title: ',len(Data['product_title'].unique()),\n",
    "      '\\nproduct_id: ',len(Data['product_id'].unique()))"
   ]
  },
  {
   "cell_type": "code",
   "execution_count": 6,
   "metadata": {},
   "outputs": [],
   "source": [
    "Data=Data.drop(columns=['product_id','product_title'],axis=1)"
   ]
  },
  {
   "cell_type": "markdown",
   "metadata": {},
   "source": [
    "Ενώνουμε τα 'review_headline' και 'review_body' σε μία νέα στήλη, ώστε να υπάρχει όλο το κείμενο της κάθε κριτικής. Έπειτα ορίζουμε νέα μεταβλητή που δείχνει το πλήθος χαρακτήρων της κάθε κριτικής."
   ]
  },
  {
   "cell_type": "code",
   "execution_count": 7,
   "metadata": {},
   "outputs": [],
   "source": [
    "Data['review']=Data['review_headline'].map(str) +' - ' +Data['review_body'] "
   ]
  },
  {
   "cell_type": "code",
   "execution_count": 8,
   "metadata": {},
   "outputs": [],
   "source": [
    "Data=Data.drop(columns=['review_headline','review_body'],axis=1)"
   ]
  },
  {
   "cell_type": "code",
   "execution_count": 9,
   "metadata": {},
   "outputs": [],
   "source": [
    "Data['review_length']=np.asarray(Data['review'].str.len())"
   ]
  },
  {
   "cell_type": "markdown",
   "metadata": {},
   "source": [
    "Ορίζουμε νέο Dataframe στο οποίο εξετάζουμε τη βαθμολογία ανά προϊόν. Ομαδοποιούνται μέσω της στήλης 'product_parent'."
   ]
  },
  {
   "cell_type": "code",
   "execution_count": 10,
   "metadata": {
    "_cell_guid": "f624aa69-fb96-4243-b815-5ee183184127",
    "_execution_state": "idle",
    "_uuid": "d0a3f2faee867e2b96ca88c0eb3bd3a096f77352"
   },
   "outputs": [],
   "source": [
    "Products={}\n",
    "for i,j in Data.iterrows():    \n",
    "      if(j['product_parent'] in Products):        \n",
    "              Products[j['product_parent']].append(j['star_rating'])        \n",
    "      else:        \n",
    "              Products[j['product_parent']]=[j['star_rating']] \n",
    "Mean=[]\n",
    "Prod=[]\n",
    "SD=[]\n",
    "N=[]\n",
    "for i in Products:\n",
    "    Mean.append(np.asarray(Products[i]).mean())\n",
    "    Prod.append(i)\n",
    "    SD.append(np.asarray(Products[i]).std())\n",
    "    N.append(len(Products[i]))\n",
    "    \n",
    "Product_Stat={'Product':Prod,\n",
    "             'Rating':Mean,\n",
    "             'SD':SD,\n",
    "             'Number':N}\n",
    "\n",
    "Product_Stat=pd.DataFrame(Product_Stat)   "
   ]
  },
  {
   "cell_type": "code",
   "execution_count": 11,
   "metadata": {
    "scrolled": true
   },
   "outputs": [
    {
     "data": {
      "text/html": [
       "<div>\n",
       "<style scoped>\n",
       "    .dataframe tbody tr th:only-of-type {\n",
       "        vertical-align: middle;\n",
       "    }\n",
       "\n",
       "    .dataframe tbody tr th {\n",
       "        vertical-align: top;\n",
       "    }\n",
       "\n",
       "    .dataframe thead th {\n",
       "        text-align: right;\n",
       "    }\n",
       "</style>\n",
       "<table border=\"1\" class=\"dataframe\">\n",
       "  <thead>\n",
       "    <tr style=\"text-align: right;\">\n",
       "      <th></th>\n",
       "      <th>Rating</th>\n",
       "      <th>Number</th>\n",
       "    </tr>\n",
       "  </thead>\n",
       "  <tbody>\n",
       "    <tr>\n",
       "      <th>count</th>\n",
       "      <td>15916.000000</td>\n",
       "      <td>15916.000000</td>\n",
       "    </tr>\n",
       "    <tr>\n",
       "      <th>mean</th>\n",
       "      <td>3.771768</td>\n",
       "      <td>5.398278</td>\n",
       "    </tr>\n",
       "    <tr>\n",
       "      <th>std</th>\n",
       "      <td>1.339065</td>\n",
       "      <td>41.076646</td>\n",
       "    </tr>\n",
       "    <tr>\n",
       "      <th>min</th>\n",
       "      <td>1.000000</td>\n",
       "      <td>1.000000</td>\n",
       "    </tr>\n",
       "    <tr>\n",
       "      <th>25%</th>\n",
       "      <td>3.000000</td>\n",
       "      <td>1.000000</td>\n",
       "    </tr>\n",
       "    <tr>\n",
       "      <th>50%</th>\n",
       "      <td>4.000000</td>\n",
       "      <td>1.000000</td>\n",
       "    </tr>\n",
       "    <tr>\n",
       "      <th>75%</th>\n",
       "      <td>5.000000</td>\n",
       "      <td>3.000000</td>\n",
       "    </tr>\n",
       "    <tr>\n",
       "      <th>max</th>\n",
       "      <td>5.000000</td>\n",
       "      <td>3918.000000</td>\n",
       "    </tr>\n",
       "  </tbody>\n",
       "</table>\n",
       "</div>"
      ],
      "text/plain": [
       "             Rating        Number\n",
       "count  15916.000000  15916.000000\n",
       "mean       3.771768      5.398278\n",
       "std        1.339065     41.076646\n",
       "min        1.000000      1.000000\n",
       "25%        3.000000      1.000000\n",
       "50%        4.000000      1.000000\n",
       "75%        5.000000      3.000000\n",
       "max        5.000000   3918.000000"
      ]
     },
     "execution_count": 11,
     "metadata": {},
     "output_type": "execute_result"
    }
   ],
   "source": [
    "pd.DataFrame(Product_Stat.drop(columns=['Product','SD']).describe())"
   ]
  },
  {
   "cell_type": "markdown",
   "metadata": {},
   "source": [
    "Αναπαριστούμε γραφικά την πυκνότητα πιθανότητας της βαθμολογίας των προϊόντων."
   ]
  },
  {
   "cell_type": "code",
   "execution_count": 12,
   "metadata": {},
   "outputs": [
    {
     "data": {
      "text/plain": [
       "<matplotlib.axes._subplots.AxesSubplot at 0x1bc00c36b38>"
      ]
     },
     "execution_count": 12,
     "metadata": {},
     "output_type": "execute_result"
    },
    {
     "data": {
      "image/png": "[encoded data removed]",
      "text/plain": [
       "<Figure size 432x288 with 1 Axes>"
      ]
     },
     "metadata": {
      "needs_background": "light"
     },
     "output_type": "display_data"
    }
   ],
   "source": [
    "sns.kdeplot(Product_Stat.Rating,shade=True)"
   ]
  },
  {
   "cell_type": "markdown",
   "metadata": {},
   "source": [
    "Εξετάζουμε τη συχνότητα των λέξεων στις καλές (3,4,5 αστέρια) και κακές (1,2 αστέρια) κριτικές. Το αναπαριστούμε γραφικά με ραβδόγραμμα."
   ]
  },
  {
   "cell_type": "code",
   "execution_count": 13,
   "metadata": {
    "_cell_guid": "eb0a6242-d4ca-45ba-b0f8-1abedd31f499",
    "_execution_state": "idle",
    "_uuid": "1a70da65b8e74d24311e1d0f5623d84ce91f8aab"
   },
   "outputs": [
    {
     "data": {
      "text/html": [
       "<div>\n",
       "<style scoped>\n",
       "    .dataframe tbody tr th:only-of-type {\n",
       "        vertical-align: middle;\n",
       "    }\n",
       "\n",
       "    .dataframe tbody tr th {\n",
       "        vertical-align: top;\n",
       "    }\n",
       "\n",
       "    .dataframe thead th {\n",
       "        text-align: right;\n",
       "    }\n",
       "</style>\n",
       "<table border=\"1\" class=\"dataframe\">\n",
       "  <thead>\n",
       "    <tr style=\"text-align: right;\">\n",
       "      <th></th>\n",
       "      <th>Pos_Word</th>\n",
       "      <th>Count</th>\n",
       "    </tr>\n",
       "  </thead>\n",
       "  <tbody>\n",
       "    <tr>\n",
       "      <th>44</th>\n",
       "      <td>product</td>\n",
       "      <td>22889</td>\n",
       "    </tr>\n",
       "    <tr>\n",
       "      <th>16</th>\n",
       "      <td>use</td>\n",
       "      <td>20841</td>\n",
       "    </tr>\n",
       "    <tr>\n",
       "      <th>208</th>\n",
       "      <td>one</td>\n",
       "      <td>20839</td>\n",
       "    </tr>\n",
       "    <tr>\n",
       "      <th>8</th>\n",
       "      <td>great</td>\n",
       "      <td>18775</td>\n",
       "    </tr>\n",
       "    <tr>\n",
       "      <th>53</th>\n",
       "      <td>like</td>\n",
       "      <td>15227</td>\n",
       "    </tr>\n",
       "    <tr>\n",
       "      <th>175</th>\n",
       "      <td>good</td>\n",
       "      <td>15072</td>\n",
       "    </tr>\n",
       "    <tr>\n",
       "      <th>52</th>\n",
       "      <td>would</td>\n",
       "      <td>14118</td>\n",
       "    </tr>\n",
       "    <tr>\n",
       "      <th>243</th>\n",
       "      <td>get</td>\n",
       "      <td>13567</td>\n",
       "    </tr>\n",
       "    <tr>\n",
       "      <th>198</th>\n",
       "      <td>well</td>\n",
       "      <td>12596</td>\n",
       "    </tr>\n",
       "  </tbody>\n",
       "</table>\n",
       "</div>"
      ],
      "text/plain": [
       "    Pos_Word  Count\n",
       "44   product  22889\n",
       "16       use  20841\n",
       "208      one  20839\n",
       "8      great  18775\n",
       "53      like  15227\n",
       "175     good  15072\n",
       "52     would  14118\n",
       "243      get  13567\n",
       "198     well  12596"
      ]
     },
     "execution_count": 13,
     "metadata": {},
     "output_type": "execute_result"
    }
   ],
   "source": [
    "Positive={}\n",
    "for i in Data[Data['star_rating']>2.5]['review']:\n",
    "    Word_List=word_tokenize(i)\n",
    "    for j in Word_List:\n",
    "        if(j in Positive):\n",
    "            Positive[j]+=1\n",
    "        else:\n",
    "            Positive[j]=1            \n",
    "Keys=[] \n",
    "Values=[]\n",
    "stop_words=set(stopwords.words(\"english\"))\n",
    "stop_words.update(['br','It','This','The'])\n",
    "for i in Positive:\n",
    "    if(i not in stop_words and i.isalpha()):   \n",
    "        Keys.append(i)\n",
    "        Values.append(Positive[i])\n",
    "Positive_Stat={'Pos_Word':Keys,'Count':Values}\n",
    "Positive_Stat=pd.DataFrame(Positive_Stat) \n",
    "Positive_Stat=Positive_Stat.sort_values(['Count'],ascending=False)   \n",
    "Positive_Stat[1:10]"
   ]
  },
  {
   "cell_type": "code",
   "execution_count": 14,
   "metadata": {},
   "outputs": [
    {
     "data": {
      "text/plain": [
       "<matplotlib.axes._subplots.AxesSubplot at 0x1bc006665f8>"
      ]
     },
     "execution_count": 14,
     "metadata": {},
     "output_type": "execute_result"
    },
    {
     "data": {
      "image/png": "[encoded data removed]",
      "text/plain": [
       "<Figure size 432x288 with 1 Axes>"
      ]
     },
     "metadata": {
      "needs_background": "light"
     },
     "output_type": "display_data"
    }
   ],
   "source": [
    "sns.barplot(x=\"Count\",y=\"Pos_Word\",data=Positive_Stat[1:30],color=\"g\")"
   ]
  },
  {
   "cell_type": "code",
   "execution_count": 15,
   "metadata": {},
   "outputs": [
    {
     "data": {
      "text/html": [
       "<div>\n",
       "<style scoped>\n",
       "    .dataframe tbody tr th:only-of-type {\n",
       "        vertical-align: middle;\n",
       "    }\n",
       "\n",
       "    .dataframe tbody tr th {\n",
       "        vertical-align: top;\n",
       "    }\n",
       "\n",
       "    .dataframe thead th {\n",
       "        text-align: right;\n",
       "    }\n",
       "</style>\n",
       "<table border=\"1\" class=\"dataframe\">\n",
       "  <thead>\n",
       "    <tr style=\"text-align: right;\">\n",
       "      <th></th>\n",
       "      <th>Neg_Word</th>\n",
       "      <th>Count</th>\n",
       "    </tr>\n",
       "  </thead>\n",
       "  <tbody>\n",
       "    <tr>\n",
       "      <th>39</th>\n",
       "      <td>product</td>\n",
       "      <td>6742</td>\n",
       "    </tr>\n",
       "    <tr>\n",
       "      <th>44</th>\n",
       "      <td>would</td>\n",
       "      <td>5534</td>\n",
       "    </tr>\n",
       "    <tr>\n",
       "      <th>106</th>\n",
       "      <td>one</td>\n",
       "      <td>5353</td>\n",
       "    </tr>\n",
       "    <tr>\n",
       "      <th>34</th>\n",
       "      <td>work</td>\n",
       "      <td>3849</td>\n",
       "    </tr>\n",
       "    <tr>\n",
       "      <th>62</th>\n",
       "      <td>use</td>\n",
       "      <td>3821</td>\n",
       "    </tr>\n",
       "    <tr>\n",
       "      <th>100</th>\n",
       "      <td>get</td>\n",
       "      <td>3765</td>\n",
       "    </tr>\n",
       "    <tr>\n",
       "      <th>153</th>\n",
       "      <td>like</td>\n",
       "      <td>3367</td>\n",
       "    </tr>\n",
       "    <tr>\n",
       "      <th>140</th>\n",
       "      <td>money</td>\n",
       "      <td>2969</td>\n",
       "    </tr>\n",
       "    <tr>\n",
       "      <th>37</th>\n",
       "      <td>time</td>\n",
       "      <td>2961</td>\n",
       "    </tr>\n",
       "  </tbody>\n",
       "</table>\n",
       "</div>"
      ],
      "text/plain": [
       "    Neg_Word  Count\n",
       "39   product   6742\n",
       "44     would   5534\n",
       "106      one   5353\n",
       "34      work   3849\n",
       "62       use   3821\n",
       "100      get   3765\n",
       "153     like   3367\n",
       "140    money   2969\n",
       "37      time   2961"
      ]
     },
     "execution_count": 15,
     "metadata": {},
     "output_type": "execute_result"
    }
   ],
   "source": [
    "Negative={}\n",
    "for i in Data[Data['star_rating']<2.5]['review']:\n",
    "    Word_List=word_tokenize(i)\n",
    "    for j in Word_List:\n",
    "        if(j in Negative):\n",
    "            Negative[j]+=1\n",
    "        else:\n",
    "            Negative[j]=1            \n",
    "Keys1=[] \n",
    "Values1=[]\n",
    "stop_words=set(stopwords.words(\"english\"))\n",
    "stop_words.update(['br','It','This','The'])\n",
    "for i in Negative:\n",
    "    if(i not in stop_words and i.isalpha()):   \n",
    "        Keys1.append(i)\n",
    "        Values1.append(Negative[i])\n",
    "Negative_Stat={'Neg_Word':Keys1,'Count':Values1}\n",
    "Negative_Stat=pd.DataFrame(Negative_Stat) \n",
    "Negative_Stat=Negative_Stat.sort_values(['Count'],ascending=False)   \n",
    "Negative_Stat[1:10]"
   ]
  },
  {
   "cell_type": "code",
   "execution_count": 16,
   "metadata": {},
   "outputs": [
    {
     "data": {
      "text/plain": [
       "<matplotlib.axes._subplots.AxesSubplot at 0x1bc01dd86a0>"
      ]
     },
     "execution_count": 16,
     "metadata": {},
     "output_type": "execute_result"
    },
    {
     "data": {
      "image/png": "[encoded data removed]",
      "text/plain": [
       "<Figure size 432x288 with 1 Axes>"
      ]
     },
     "metadata": {
      "needs_background": "light"
     },
     "output_type": "display_data"
    }
   ],
   "source": [
    "sns.barplot(x=\"Count\",y=\"Neg_Word\",data=Negative_Stat[1:30],color=\"r\")"
   ]
  },
  {
   "cell_type": "markdown",
   "metadata": {},
   "source": [
    "Συναρτήσεις πυκνότητας πιθανότητας κατανομής ψήφων στις κριτικές και μήκους χαρακτήρων."
   ]
  },
  {
   "cell_type": "code",
   "execution_count": 17,
   "metadata": {},
   "outputs": [
    {
     "data": {
      "text/plain": [
       "<matplotlib.axes._subplots.AxesSubplot at 0x1bc045a9f60>"
      ]
     },
     "execution_count": 17,
     "metadata": {},
     "output_type": "execute_result"
    },
    {
     "data": {
      "image/png": "[encoded data removed]",
      "text/plain": [
       "<Figure size 432x288 with 1 Axes>"
      ]
     },
     "metadata": {
      "needs_background": "light"
     },
     "output_type": "display_data"
    }
   ],
   "source": [
    "sns.kdeplot(Data['total_votes'],shade=True,color=\"yellow\")"
   ]
  },
  {
   "cell_type": "code",
   "execution_count": 18,
   "metadata": {},
   "outputs": [
    {
     "data": {
      "text/plain": [
       "<matplotlib.axes._subplots.AxesSubplot at 0x1bc04624a58>"
      ]
     },
     "execution_count": 18,
     "metadata": {},
     "output_type": "execute_result"
    },
    {
     "data": {
      "image/png": "[encoded data removed]",
      "text/plain": [
       "<Figure size 432x288 with 1 Axes>"
      ]
     },
     "metadata": {
      "needs_background": "light"
     },
     "output_type": "display_data"
    }
   ],
   "source": [
    "sns.kdeplot(Data['review_length'],shade=True,color=\"red\")"
   ]
  },
  {
   "cell_type": "markdown",
   "metadata": {},
   "source": [
    "Εξετάζοντας συσχετίσεις μεταξύ μεταβλητών, φαίνεται ότι είναι τελείως γραμμική η συσχέτιση των 'helpful_votes','total_votes'. Οπότε αφαιρούμε τη στήλη 'helpful_votes' (θα μπορούσε αντίστοιχα να αφαιρεθεί η 'total_votes' χωρίς κάποια αλλαγή)."
   ]
  },
  {
   "cell_type": "code",
   "execution_count": 19,
   "metadata": {},
   "outputs": [
    {
     "data": {
      "text/html": [
       "<div>\n",
       "<style scoped>\n",
       "    .dataframe tbody tr th:only-of-type {\n",
       "        vertical-align: middle;\n",
       "    }\n",
       "\n",
       "    .dataframe tbody tr th {\n",
       "        vertical-align: top;\n",
       "    }\n",
       "\n",
       "    .dataframe thead th {\n",
       "        text-align: right;\n",
       "    }\n",
       "</style>\n",
       "<table border=\"1\" class=\"dataframe\">\n",
       "  <thead>\n",
       "    <tr style=\"text-align: right;\">\n",
       "      <th></th>\n",
       "      <th>star_rating</th>\n",
       "      <th>total_votes</th>\n",
       "      <th>helpful_votes</th>\n",
       "      <th>review_length</th>\n",
       "    </tr>\n",
       "  </thead>\n",
       "  <tbody>\n",
       "    <tr>\n",
       "      <th>star_rating</th>\n",
       "      <td>1.000000</td>\n",
       "      <td>-0.030357</td>\n",
       "      <td>-0.008671</td>\n",
       "      <td>-0.038069</td>\n",
       "    </tr>\n",
       "    <tr>\n",
       "      <th>total_votes</th>\n",
       "      <td>-0.030357</td>\n",
       "      <td>1.000000</td>\n",
       "      <td>0.991686</td>\n",
       "      <td>0.271167</td>\n",
       "    </tr>\n",
       "    <tr>\n",
       "      <th>helpful_votes</th>\n",
       "      <td>-0.008671</td>\n",
       "      <td>0.991686</td>\n",
       "      <td>1.000000</td>\n",
       "      <td>0.271205</td>\n",
       "    </tr>\n",
       "    <tr>\n",
       "      <th>review_length</th>\n",
       "      <td>-0.038069</td>\n",
       "      <td>0.271167</td>\n",
       "      <td>0.271205</td>\n",
       "      <td>1.000000</td>\n",
       "    </tr>\n",
       "  </tbody>\n",
       "</table>\n",
       "</div>"
      ],
      "text/plain": [
       "               star_rating  total_votes  helpful_votes  review_length\n",
       "star_rating       1.000000    -0.030357      -0.008671      -0.038069\n",
       "total_votes      -0.030357     1.000000       0.991686       0.271167\n",
       "helpful_votes    -0.008671     0.991686       1.000000       0.271205\n",
       "review_length    -0.038069     0.271167       0.271205       1.000000"
      ]
     },
     "execution_count": 19,
     "metadata": {},
     "output_type": "execute_result"
    }
   ],
   "source": [
    "cleandata=pd.DataFrame()\n",
    "cleandata['star_rating']=Data['star_rating']\n",
    "cleandata['total_votes']=Data['total_votes']\n",
    "cleandata['helpful_votes']=Data['helpful_votes']\n",
    "cleandata['review_length']=Data['review_length']\n",
    "cleandata.corr()"
   ]
  },
  {
   "cell_type": "code",
   "execution_count": 20,
   "metadata": {},
   "outputs": [],
   "source": [
    "Data=Data.drop(columns=['helpful_votes'])"
   ]
  },
  {
   "cell_type": "markdown",
   "metadata": {},
   "source": [
    "Μετατρέπουμε τις τιμές 'Ν','Υ' σε ακεραίους."
   ]
  },
  {
   "cell_type": "code",
   "execution_count": 21,
   "metadata": {},
   "outputs": [],
   "source": [
    "Data=Data.replace(['N','Y'],[0,1])"
   ]
  },
  {
   "cell_type": "markdown",
   "metadata": {},
   "source": [
    "Αναζητούμε τις πιο συχνές λέξεις ανά βαθμολογία που έδωσε η κριτική. Μέσα από αυτές φτιάχνουμε απλά σύνολα λέξεων, και από εκεί ορίζουμε νέες στήλες, που θα παίρνουν ακέραιες αριθμητικές τιμές όσες το πλήθος των λέξεων από κάθε κατηγορία που περιέχει η κριτική."
   ]
  },
  {
   "cell_type": "code",
   "execution_count": 22,
   "metadata": {},
   "outputs": [
    {
     "name": "stdout",
     "output_type": "stream",
     "text": [
      "{'work', 'money', 'good', 'back', 'even', 'get', 'time', 'buy', 'could'} \n",
      " {'work', 'really', 'well', 'good', 'back', 'Not', 'get', 'time', 'much'} \n",
      " {'work', 'really', 'well', 'great', 'good', 'works', 'get', 'time', 'better'} \n",
      " {'really', 'well', 'great', 'good', 'works', 'little', 'used', 'get', 'time'} \n",
      " {'really', 'well', 'great', 'good', 'works', 'used', 'get', 'Great', 'time'} \n",
      "\n"
     ]
    }
   ],
   "source": [
    "Word_5={}\n",
    "for i in Data[Data['star_rating']==5]['review']:\n",
    "    Word_List_5=word_tokenize(i)\n",
    "    for j in Word_List_5:\n",
    "        if(j in Word_5):\n",
    "            Word_5[j]+=1\n",
    "        else:\n",
    "            Word_5[j]=1            \n",
    "Keys_5=[] \n",
    "Values_5=[]\n",
    "stop_words=set(stopwords.words(\"english\"))\n",
    "stop_words.update(['would','like','product','use','one','br','It','This','The'])\n",
    "for i in Word_5:\n",
    "    if(i not in stop_words and i.isalpha()):   \n",
    "        Keys_5.append(i)\n",
    "        Values_5.append(Word_5[i])\n",
    "Word_5_Stat={'Pos_Word':Keys_5,'Count':Values_5}\n",
    "Word_5_Stat=pd.DataFrame(Word_5_Stat) \n",
    "Word_5_Stat=Word_5_Stat.sort_values(['Count'],ascending=False)   \n",
    "five_starwds=Word_5_Stat[1:10]['Pos_Word']\n",
    "\n",
    "Word_4={}\n",
    "for i in Data[Data['star_rating']==4]['review']:\n",
    "    Word_List_4=word_tokenize(i)\n",
    "    for j in Word_List_4:\n",
    "        if(j in Word_4):\n",
    "            Word_4[j]+=1\n",
    "        else:\n",
    "            Word_4[j]=1            \n",
    "Keys_4=[] \n",
    "Values_4=[]\n",
    "for i in Word_4:\n",
    "    if(i not in stop_words and i.isalpha()):   \n",
    "        Keys_4.append(i)\n",
    "        Values_4.append(Word_4[i])\n",
    "Word_4_Stat={'Pos_Word':Keys_4,'Count':Values_4}\n",
    "Word_4_Stat=pd.DataFrame(Word_4_Stat) \n",
    "Word_4_Stat=Word_4_Stat.sort_values(['Count'],ascending=False)   \n",
    "four_starwds=Word_4_Stat[1:10]['Pos_Word']\n",
    "\n",
    "Word_3={}\n",
    "for i in Data[Data['star_rating']==3]['review']:\n",
    "    Word_List_3=word_tokenize(i)\n",
    "    for j in Word_List_3:\n",
    "        if(j in Word_3):\n",
    "            Word_3[j]+=1\n",
    "        else:\n",
    "            Word_3[j]=1            \n",
    "Keys_3=[] \n",
    "Values_3=[]\n",
    "for i in Word_3:\n",
    "    if(i not in stop_words and i.isalpha()):   \n",
    "        Keys_3.append(i)\n",
    "        Values_3.append(Word_3[i])\n",
    "Word_3_Stat={'Pos_Word':Keys_3,'Count':Values_3}\n",
    "Word_3_Stat=pd.DataFrame(Word_3_Stat) \n",
    "Word_3_Stat=Word_3_Stat.sort_values(['Count'],ascending=False)   \n",
    "three_starwds=Word_3_Stat[1:10]['Pos_Word']\n",
    "\n",
    "Word_2={}\n",
    "for i in Data[Data['star_rating']==2]['review']:\n",
    "    Word_List_2=word_tokenize(i)\n",
    "    for j in Word_List_2:\n",
    "        if(j in Word_2):\n",
    "            Word_2[j]+=1\n",
    "        else:\n",
    "            Word_2[j]=1            \n",
    "Keys_2=[] \n",
    "Values_2=[]\n",
    "for i in Word_2:\n",
    "    if(i not in stop_words and i.isalpha()):   \n",
    "        Keys_2.append(i)\n",
    "        Values_2.append(Word_2[i])\n",
    "Word_2_Stat={'Pos_Word':Keys_2,'Count':Values_2}\n",
    "Word_2_Stat=pd.DataFrame(Word_2_Stat) \n",
    "Word_2_Stat=Word_2_Stat.sort_values(['Count'],ascending=False)   \n",
    "two_starwds=Word_2_Stat[1:10]['Pos_Word']\n",
    "\n",
    "Word_1={}\n",
    "for i in Data[Data['star_rating']==1]['review']:\n",
    "    Word_List_1=word_tokenize(i)\n",
    "    for j in Word_List_1:\n",
    "        if(j in Word_1):\n",
    "            Word_1[j]+=1\n",
    "        else:\n",
    "            Word_1[j]=1            \n",
    "Keys_1=[] \n",
    "Values_1=[]\n",
    "for i in Word_1:\n",
    "    if(i not in stop_words and i.isalpha()):   \n",
    "        Keys_1.append(i)\n",
    "        Values_1.append(Word_1[i])\n",
    "Word_1_Stat={'Pos_Word':Keys_1,'Count':Values_1}\n",
    "Word_1_Stat=pd.DataFrame(Word_1_Stat) \n",
    "Word_1_Stat=Word_1_Stat.sort_values(['Count'],ascending=False)   \n",
    "one_starwds=Word_1_Stat[1:10]['Pos_Word']\n",
    "\n",
    "words1=set(one_starwds)\n",
    "words2=set(two_starwds)\n",
    "words3=set(three_starwds)\n",
    "words4=set(four_starwds) \n",
    "words5=set(five_starwds) \n",
    "print(words1,'\\n',words2,'\\n',words3,'\\n',words4,'\\n',words5,'\\n')"
   ]
  },
  {
   "cell_type": "code",
   "execution_count": 22,
   "metadata": {},
   "outputs": [],
   "source": [
    "temp1=set(['One','one','bad','return','waste','not'])\n",
    "temp2=set(['Two','two','much','back','better','money'])\n",
    "temp3=set(['Three','three','price','well','used','really'])\n",
    "temp4=set(['Four','four','good','time','works'])\n",
    "temp5=set(['Five','five','great','love','recommend','easy'])"
   ]
  },
  {
   "cell_type": "code",
   "execution_count": 23,
   "metadata": {},
   "outputs": [],
   "source": [
    "def one_search(df):\n",
    "    return (len(set(word_tokenize(df.review)))-len(set(word_tokenize(df.review))-temp1))\n",
    "def two_search(df):\n",
    "    return (len(set(word_tokenize(df.review)))-len(set(word_tokenize(df.review))-temp2))\n",
    "def three_search(df):\n",
    "    return (len(set(word_tokenize(df.review)))-len(set(word_tokenize(df.review))-temp3))\n",
    "def four_search(df):\n",
    "    return (len(set(word_tokenize(df.review)))-len(set(word_tokenize(df.review))-temp4))\n",
    "def five_search(df):\n",
    "    return (len(set(word_tokenize(df.review)))-len(set(word_tokenize(df.review))-temp5))"
   ]
  },
  {
   "cell_type": "code",
   "execution_count": 24,
   "metadata": {},
   "outputs": [],
   "source": [
    "Data['one_star']=Data.apply(one_search,axis=1)\n",
    "Data['two_star']=Data.apply(two_search,axis=1)\n",
    "Data['three_star']=Data.apply(three_search,axis=1)\n",
    "Data['four_star']=Data.apply(four_search,axis=1)\n",
    "Data['five_star']=Data.apply(five_search,axis=1)"
   ]
  },
  {
   "cell_type": "markdown",
   "metadata": {},
   "source": [
    "Η μεγαλύτερή μας κλάση έχει 57%, άρα τόσο είναι το baseline προβλεπτικής ικανότητας του μοντέλου μας."
   ]
  },
  {
   "cell_type": "code",
   "execution_count": 25,
   "metadata": {},
   "outputs": [
    {
     "data": {
      "text/plain": [
       "0.5686867863918341"
      ]
     },
     "execution_count": 25,
     "metadata": {},
     "output_type": "execute_result"
    }
   ],
   "source": [
    "len(Data[Data.star_rating==5])/len(Data)"
   ]
  },
  {
   "cell_type": "markdown",
   "metadata": {},
   "source": [
    "Εκπαιδεύουμε το μοντέλο μας χρησιμοποιώντας KNN, Random Forest και Gaussian Naive Bayes. Αρχικά έχουμε τιμές κάτω του baseline."
   ]
  },
  {
   "cell_type": "code",
   "execution_count": 27,
   "metadata": {},
   "outputs": [],
   "source": [
    "features = Data.filter(['vine','verified_purchase', 'review_length','total_votes',\n",
    "                        'one_star','two_star','three_star','four_star','five_star'], axis=1)\n",
    "labels=Data['star_rating']"
   ]
  },
  {
   "cell_type": "code",
   "execution_count": 28,
   "metadata": {},
   "outputs": [],
   "source": [
    "x_train, x_test, y_train, y_test =train_test_split(features,labels,test_size=0.33)"
   ]
  },
  {
   "cell_type": "code",
   "execution_count": 33,
   "metadata": {},
   "outputs": [
    {
     "name": "stderr",
     "output_type": "stream",
     "text": [
      "C:\\Users\\Fotis\\Anaconda3\\lib\\site-packages\\sklearn\\ensemble\\forest.py:246: FutureWarning: The default value of n_estimators will change from 10 in version 0.20 to 100 in 0.22.\n",
      "  \"10 in version 0.20 to 100 in 0.22.\", FutureWarning)\n"
     ]
    },
    {
     "data": {
      "text/plain": [
       "GaussianNB(priors=None, var_smoothing=1e-09)"
      ]
     },
     "execution_count": 33,
     "metadata": {},
     "output_type": "execute_result"
    }
   ],
   "source": [
    "rfc.fit(x_train,y_train)\n",
    "knn.fit(x_train,y_train)\n",
    "gnb.fit(x_train,y_train)"
   ]
  },
  {
   "cell_type": "code",
   "execution_count": 35,
   "metadata": {},
   "outputs": [
    {
     "name": "stdout",
     "output_type": "stream",
     "text": [
      "0.4985187275163998\n"
     ]
    }
   ],
   "source": [
    "pred_rfc=rfc.predict(x_test)\n",
    "print(accuracy_score(pred_rfc,y_test))"
   ]
  },
  {
   "cell_type": "code",
   "execution_count": 36,
   "metadata": {},
   "outputs": [
    {
     "name": "stdout",
     "output_type": "stream",
     "text": [
      "0.5101925654228681\n"
     ]
    }
   ],
   "source": [
    "pred_knn=knn.predict(x_test)\n",
    "print(accuracy_score(pred_knn,y_test))"
   ]
  },
  {
   "cell_type": "code",
   "execution_count": 37,
   "metadata": {},
   "outputs": [
    {
     "name": "stdout",
     "output_type": "stream",
     "text": [
      "0.5328701417789378\n"
     ]
    }
   ],
   "source": [
    "pred_gnb=gnb.predict(x_test)\n",
    "print(accuracy_score(pred_gnb,y_test))"
   ]
  },
  {
   "cell_type": "markdown",
   "metadata": {},
   "source": [
    "Χρησιμοποιούμε τον Random Over Sampler από το imblearn ώστε να διορθώσουμε το πρόβλημα των imbalanced δεδομένων. Αυξάνει τις μειονοτικές κλάσεις."
   ]
  },
  {
   "cell_type": "code",
   "execution_count": 31,
   "metadata": {},
   "outputs": [],
   "source": [
    "feat,lab=ros.fit_resample(features,labels)"
   ]
  },
  {
   "cell_type": "code",
   "execution_count": 32,
   "metadata": {},
   "outputs": [],
   "source": [
    "train,test,yt,y=train_test_split(feat,lab,test_size=0.33)"
   ]
  },
  {
   "cell_type": "code",
   "execution_count": 33,
   "metadata": {},
   "outputs": [
    {
     "name": "stderr",
     "output_type": "stream",
     "text": [
      "C:\\Users\\Fotis\\Anaconda3\\lib\\site-packages\\sklearn\\ensemble\\forest.py:246: FutureWarning: The default value of n_estimators will change from 10 in version 0.20 to 100 in 0.22.\n",
      "  \"10 in version 0.20 to 100 in 0.22.\", FutureWarning)\n"
     ]
    },
    {
     "data": {
      "text/plain": [
       "GaussianNB(priors=None, var_smoothing=1e-09)"
      ]
     },
     "execution_count": 33,
     "metadata": {},
     "output_type": "execute_result"
    }
   ],
   "source": [
    "rfc.fit(train,yt)\n",
    "knn.fit(train,yt)\n",
    "gnb.fit(train,yt)"
   ]
  },
  {
   "cell_type": "code",
   "execution_count": 34,
   "metadata": {},
   "outputs": [
    {
     "name": "stdout",
     "output_type": "stream",
     "text": [
      "0.7733300416167032\n"
     ]
    }
   ],
   "source": [
    "pred1_rfc=rfc.predict(x_test)\n",
    "print(accuracy_score(pred1_rfc,y_test))"
   ]
  },
  {
   "cell_type": "code",
   "execution_count": 35,
   "metadata": {},
   "outputs": [
    {
     "name": "stdout",
     "output_type": "stream",
     "text": [
      "0.5448966636100726\n"
     ]
    }
   ],
   "source": [
    "pred1_knn=knn.predict(x_test)\n",
    "print(accuracy_score(pred1_knn,y_test))"
   ]
  },
  {
   "cell_type": "code",
   "execution_count": 36,
   "metadata": {},
   "outputs": [
    {
     "name": "stdout",
     "output_type": "stream",
     "text": [
      "0.36714396557804896\n"
     ]
    }
   ],
   "source": [
    "pred1_gnb=gnb.predict(x_test)\n",
    "print(accuracy_score(pred1_gnb,y_test))"
   ]
  },
  {
   "cell_type": "code",
   "execution_count": 38,
   "metadata": {},
   "outputs": [
    {
     "data": {
      "text/plain": [
       "array([[ 3226,   127,   135,    97,    88],\n",
       "       [   38,  1615,    40,    21,    21],\n",
       "       [   51,    60,  2085,    56,    49],\n",
       "       [  142,   182,   221,  3645,   249],\n",
       "       [ 1015,   858,  1189,  1788, 11356]], dtype=int64)"
      ]
     },
     "execution_count": 38,
     "metadata": {},
     "output_type": "execute_result"
    }
   ],
   "source": [
    "confusion_matrix(y_test,pred1_rfc)"
   ]
  },
  {
   "cell_type": "code",
   "execution_count": 39,
   "metadata": {},
   "outputs": [],
   "source": [
    "\n",
    "def plot_confusion_matrix(y_true, y_pred, \n",
    "                          normalize=False,\n",
    "                          title=None,\n",
    "                          cmap=plt.cm.Blues):\n",
    "    \"\"\"\n",
    "    This function prints and plots the confusion matrix.\n",
    "    Normalization can be applied by setting `normalize=True`.\n",
    "    \"\"\"\n",
    "    if not title:\n",
    "        if normalize:\n",
    "            title = 'Normalized confusion matrix'\n",
    "        else:\n",
    "            title = 'Confusion matrix, without normalization'\n",
    "\n",
    "    # Compute confusion matrix\n",
    "    cm = confusion_matrix(y_true, y_pred)\n",
    "    # Only use the labels that appear in the data\n",
    "    classes = [1,2,3,4,5]\n",
    "    if normalize:\n",
    "        cm = cm.astype('float') / cm.sum(axis=1)[:, np.newaxis]\n",
    "        print(\"Normalized confusion matrix\")\n",
    "    else:\n",
    "        print('Confusion matrix, without normalization')\n",
    "\n",
    "    print(cm)\n",
    "\n",
    "    fig, ax = plt.subplots()\n",
    "    im = ax.imshow(cm, interpolation='nearest', cmap=cmap)\n",
    "    ax.figure.colorbar(im, ax=ax)\n",
    "    # We want to show all ticks...\n",
    "    ax.set(xticks=np.arange(cm.shape[1]),\n",
    "           yticks=np.arange(cm.shape[0]),\n",
    "           # ... and label them with the respective list entries\n",
    "           xticklabels=classes, yticklabels=classes,\n",
    "           title=title,\n",
    "           ylabel='True label',\n",
    "           xlabel='Predicted label')\n",
    "\n",
    "    # Rotate the tick labels and set their alignment.\n",
    "    plt.setp(ax.get_xticklabels(), rotation=45, ha=\"right\",\n",
    "             rotation_mode=\"anchor\")\n",
    "\n",
    "    # Loop over data dimensions and create text annotations.\n",
    "    fmt = '.2f' if normalize else 'd'\n",
    "    thresh = cm.max() / 2.\n",
    "    for i in range(cm.shape[0]):\n",
    "        for j in range(cm.shape[1]):\n",
    "            ax.text(j, i, format(cm[i, j], fmt),\n",
    "                    ha=\"center\", va=\"center\",\n",
    "                    color=\"white\" if cm[i, j] > thresh else \"black\")\n",
    "    fig.tight_layout()\n",
    "    return ax"
   ]
  },
  {
   "cell_type": "markdown",
   "metadata": {},
   "source": [
    "Παρατηρούμε ότι δουλεύει πολύ καλά με τον Random Forest, ενώ χειροτερεύει τους άλλους δύο Classifiers. Παίρνουμε τελικά προβλεπτική ικανότητα 77%, έχοντας πολύ καλύτερη ικανότητα διάκρισης στις μικρές κλάσεις του αρχικού dataset. Μειώθηκε λίγο η προβλεπτική ικανότητα στη μεγαλύτερη κλάση, λόγω του over sampling στις μικρές."
   ]
  },
  {
   "cell_type": "code",
   "execution_count": 40,
   "metadata": {},
   "outputs": [
    {
     "name": "stdout",
     "output_type": "stream",
     "text": [
      "Normalized confusion matrix\n",
      "[[0.87830112 0.03457664 0.0367547  0.02640893 0.02395862]\n",
      " [0.02190202 0.93083573 0.02305476 0.01210375 0.01210375]\n",
      " [0.02216428 0.02607562 0.90612777 0.02433724 0.02129509]\n",
      " [0.03198919 0.04100023 0.04978599 0.82113089 0.05609371]\n",
      " [0.06263112 0.05294335 0.07336789 0.11032951 0.70072813]]\n"
     ]
    },
    {
     "data": {
      "text/plain": [
       "<matplotlib.axes._subplots.AxesSubplot at 0x1bc047c6a90>"
      ]
     },
     "execution_count": 40,
     "metadata": {},
     "output_type": "execute_result"
    },
    {
     "data": {
      "image/png": "[encoded data removed]",
      "text/plain": [
       "<Figure size 432x288 with 2 Axes>"
      ]
     },
     "metadata": {
      "needs_background": "light"
     },
     "output_type": "display_data"
    }
   ],
   "source": [
    "plot_confusion_matrix(y_test,pred1_rfc,normalize=True)"
   ]
  },
  {
   "cell_type": "markdown",
   "metadata": {},
   "source": [
    "Τέλος κατασκευάζουμε την καμπύλη μάθησης του μοντέλου. Παρατηρούμε ότι χρειάζεται περίπου 80000 δείγματα για να πάει πάνω από 70%. Αυτό εξηγεί την ανάγκη του random over sampler, καθώς είχαμε μικρό αρχικό dataset, εκτός από imbalanced. Σίγουρα η καλύτερη λύση είναι η συλλογή περισσότερων δεδομένων, αλλά το over sampling είναι μία επιλογή εάν δεν υπάρχουν τα δεδομένα αυτά."
   ]
  },
  {
   "cell_type": "code",
   "execution_count": 44,
   "metadata": {},
   "outputs": [
    {
     "data": {
      "image/png": "[encoded data removed]",
      "text/plain": [
       "<Figure size 432x288 with 1 Axes>"
      ]
     },
     "metadata": {
      "needs_background": "light"
     },
     "output_type": "display_data"
    }
   ],
   "source": [
    "\n",
    "\n",
    "\n",
    "def plot_learning_curve(estimator, title, X, y, ylim=None, cv=None,\n",
    "                        n_jobs=None, train_sizes=np.linspace(.1, 1.0, 5)):\n",
    "\n",
    "\n",
    "    \n",
    "    plt.figure()\n",
    "    plt.title(title)\n",
    "    if ylim is not None:\n",
    "        plt.ylim(*ylim)\n",
    "    plt.xlabel(\"Training examples\")\n",
    "    plt.ylabel(\"Score\")\n",
    "    train_sizes, train_scores, test_scores = learning_curve(\n",
    "        estimator, X, y, cv=cv, n_jobs=n_jobs, train_sizes=train_sizes)\n",
    "    train_scores_mean = np.mean(train_scores, axis=1)\n",
    "    train_scores_std = np.std(train_scores, axis=1)\n",
    "    test_scores_mean = np.mean(test_scores, axis=1)\n",
    "    test_scores_std = np.std(test_scores, axis=1)\n",
    "    plt.grid()\n",
    "\n",
    "    plt.fill_between(train_sizes, train_scores_mean - train_scores_std,\n",
    "                     train_scores_mean + train_scores_std, alpha=0.1,\n",
    "                     color=\"r\")\n",
    "    plt.fill_between(train_sizes, test_scores_mean - test_scores_std,\n",
    "                     test_scores_mean + test_scores_std, alpha=0.1, color=\"g\")\n",
    "    plt.plot(train_sizes, train_scores_mean, 'o-', color=\"r\",\n",
    "             label=\"Training score\")\n",
    "    plt.plot(train_sizes, test_scores_mean, 'o-', color=\"g\",\n",
    "             label=\"Cross-validation score\")\n",
    "\n",
    "    plt.legend(loc=\"best\")\n",
    "    return plt\n",
    "\n",
    "\n",
    "\n",
    "\n",
    "title = r\"Learning Curve RFC\"\n",
    "estimator = rfc\n",
    "plot_learning_curve(estimator, title, train, yt, cv=10, n_jobs=4)\n",
    "\n",
    "plt.show()"
   ]
  }
 ],
 "metadata": {
  "anaconda-cloud": {},
  "kernelspec": {
   "display_name": "Python 3",
   "language": "python",
   "name": "python3"
  },
  "language_info": {
   "codemirror_mode": {
    "name": "ipython",
    "version": 3
   },
   "file_extension": ".py",
   "mimetype": "text/x-python",
   "name": "python",
   "nbconvert_exporter": "python",
   "pygments_lexer": "ipython3",
   "version": "3.7.2"
  }
 },
 "nbformat": 4,
 "nbformat_minor": 1
}
